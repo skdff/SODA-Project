{
 "cells": [
  {
   "cell_type": "code",
   "execution_count": 1,
   "id": "0788bba5",
   "metadata": {},
   "outputs": [],
   "source": [
    "import warnings\n",
    "warnings.filterwarnings(\"ignore\")"
   ]
  },
  {
   "cell_type": "code",
   "execution_count": 21,
   "id": "4970ece3",
   "metadata": {},
   "outputs": [],
   "source": [
    "import os\n",
    "import cv2\n",
    "import time\n",
    "import csv\n",
    "import shutil\n",
    "import numpy as np\n",
    "import pandas as pd\n",
    "import splitfolders\n",
    "import seaborn as sns\n",
    "import tensorflow as tf\n",
    "from tensorflow import keras\n",
    "from keras import Sequential\n",
    "import matplotlib.pyplot as plt\n",
    "from sklearn.model_selection import train_test_split\n",
    "from sklearn.metrics import confusion_matrix, classification_report\n",
    "from keras.layers import Dense,Conv2D,MaxPooling2D,Flatten,BatchNormalization,Dropout"
   ]
  },
  {
   "cell_type": "raw",
   "id": "dc74ad81",
   "metadata": {},
   "source": [
    "# Define paths\n",
    "input_folder = r'D:\\NITS\\Major Project\\Action_Folder\\GA_DF'\n",
    "output_folder = r'D:\\NITS\\Major Project\\Action_Folder\\GA_DF_Splitted'  # This folder will be created by split-folders\n",
    "\n",
    "# Split the dataset into training and testing sets\n",
    "if not os.path.exists(output_folder):\n",
    "  os.makedirs(output_folder)\n",
    "splitfolders.ratio(input_folder, output=output_folder, seed=42, ratio=(0.7, 0.2,0.1))"
   ]
  },
  {
   "cell_type": "raw",
   "id": "5dbfd42d",
   "metadata": {},
   "source": [
    "inp = r'D:\\NITS\\Major Project\\Action_Folder\\GA_DF_Splitted\\train'\n",
    "folder = os.listdir(inp)\n",
    "sum = 0\n",
    "print('-------------------------TRAIN FOLDER DETAILS----------------------------------------')\n",
    "for i in folder:\n",
    "  fp = os.path.join(inp,i)\n",
    "  png_files = [file for file in os.listdir(fp) if file.endswith('.png')]\n",
    "  print(\"folder {} count = {}\".format(i,len(png_files)))\n",
    "  sum = sum + len(png_files)\n",
    "print('-----------------------------------------------------------------------')\n",
    "print(\"Total = {}\".format(sum))"
   ]
  },
  {
   "cell_type": "raw",
   "id": "886fe444",
   "metadata": {},
   "source": [
    "inp2 = r'D:\\NITS\\Major Project\\Action_Folder\\GA_DF_Splitted\\test'\n",
    "folder = os.listdir(inp2)\n",
    "sum = 0\n",
    "print('-------------------------TEST FOLDER DETAILS----------------------------------------')\n",
    "for i in folder:\n",
    "  fp = os.path.join(inp2,i)\n",
    "  png_files = [file for file in os.listdir(fp) if file.endswith('.png')]\n",
    "  print(\"folder {} count = {}\".format(i,len(png_files)))\n",
    "  sum = sum + len(png_files)\n",
    "print('-----------------------------------------------------------------------')\n",
    "print(\"Total = {}\".format(sum))"
   ]
  },
  {
   "cell_type": "raw",
   "id": "bd39f345",
   "metadata": {},
   "source": [
    "inp3 = r'D:\\NITS\\Major Project\\Action_Folder\\GA_DF_Splitted\\val'\n",
    "folder = os.listdir(inp3)\n",
    "sum = 0\n",
    "print('-------------------------VAL FOLDER DETAILS----------------------------------------')\n",
    "for i in folder:\n",
    "  fp = os.path.join(inp3,i)\n",
    "  png_files = [file for file in os.listdir(fp) if file.endswith('.png')]\n",
    "  print(\"folder {} count = {}\".format(i,len(png_files)))\n",
    "  sum = sum + len(png_files)\n",
    "print('-----------------------------------------------------------------------')\n",
    "print(\"Total = {}\".format(sum))"
   ]
  },
  {
   "cell_type": "markdown",
   "id": "9d4b4b78",
   "metadata": {},
   "source": [
    "# GENERATORS"
   ]
  },
  {
   "cell_type": "code",
   "execution_count": 38,
   "id": "b20f843c",
   "metadata": {},
   "outputs": [
    {
     "name": "stdout",
     "output_type": "stream",
     "text": [
      "Found 1438 files belonging to 18 classes.\n"
     ]
    }
   ],
   "source": [
    "#generators\n",
    "ds_train = keras.utils.image_dataset_from_directory(\n",
    "    directory = r'D:\\NITS\\Major Project\\Action_Folder\\GA_DF_Splitted\\train',\n",
    "    labels = 'inferred',\n",
    "    label_mode= 'categorical',\n",
    "    batch_size=32,\n",
    "    image_size=(224,224)\n",
    "\n",
    ")"
   ]
  },
  {
   "cell_type": "code",
   "execution_count": 39,
   "id": "1b9a1eb3",
   "metadata": {},
   "outputs": [
    {
     "name": "stdout",
     "output_type": "stream",
     "text": [
      "Found 215 files belonging to 18 classes.\n"
     ]
    }
   ],
   "source": [
    "#generators\n",
    "ds_test = keras.utils.image_dataset_from_directory(\n",
    "    directory = r'D:\\NITS\\Major Project\\Action_Folder\\GA_DF_Splitted\\test',\n",
    "    labels = 'inferred',\n",
    "    label_mode= 'categorical',\n",
    "    batch_size=32,\n",
    "    image_size=(224,224)\n",
    "\n",
    ")"
   ]
  },
  {
   "cell_type": "code",
   "execution_count": 40,
   "id": "a25561f4",
   "metadata": {},
   "outputs": [
    {
     "name": "stdout",
     "output_type": "stream",
     "text": [
      "Found 408 files belonging to 18 classes.\n"
     ]
    }
   ],
   "source": [
    "#generators\n",
    "ds_val = keras.utils.image_dataset_from_directory(\n",
    "    directory = r'D:\\NITS\\Major Project\\Action_Folder\\GA_DF_Splitted\\val',\n",
    "    labels = 'inferred',\n",
    "    label_mode= 'categorical',\n",
    "    batch_size=32,\n",
    "    image_size=(224,224)\n",
    "\n",
    ")"
   ]
  },
  {
   "cell_type": "raw",
   "id": "90fcf7b4",
   "metadata": {},
   "source": [
    "#Normalize\n",
    "def process(image,label):\n",
    "  image = tf.cast(image/255., tf.float32)\n",
    "  return image,label\n",
    "\n",
    "ds_train = ds_train.map(process)\n",
    "ds_test = ds_test.map(process)\n",
    "ds_val = ds_val.map(process)"
   ]
  },
  {
   "cell_type": "raw",
   "id": "8286b853",
   "metadata": {},
   "source": [
    "# Define a learning rate schedule\n",
    "initial_learning_rate = 0.0005\n",
    "lr_schedule = tf.keras.optimizers.schedules.ExponentialDecay(\n",
    "    initial_learning_rate, decay_steps=40, decay_rate=0.5, staircase=True\n",
    ")"
   ]
  },
  {
   "cell_type": "code",
   "execution_count": 41,
   "id": "74ddf4d4",
   "metadata": {},
   "outputs": [],
   "source": [
    "# Create an AdamW optimizer with specified beta1 and beta2 values\n",
    "optimizer = tf.keras.optimizers.Adam(learning_rate=0.001)#, beta_1=0.9, beta_2=0.999)"
   ]
  },
  {
   "cell_type": "raw",
   "id": "235d1f3b",
   "metadata": {},
   "source": [
    "# create CNN model\n",
    "model = Sequential()\n",
    "model.add(Conv2D(32, kernel_size=(3, 3), padding='valid', activation='relu', input_shape=(128, 128, 3)))\n",
    "#model.add(BatchNormalization())\n",
    "#model.add(Conv2D(32, kernel_size=(3, 3), padding='valid', activation='relu'))\n",
    "#model.add(MaxPooling2D(pool_size=(2, 2), strides=2, padding='valid'))\n",
    "model.add(Conv2D(64, kernel_size=(3, 3), padding='valid', activation='relu'))\n",
    "model.add(MaxPooling2D(pool_size=(2, 2), strides=2, padding='valid'))\n",
    "model.add(Conv2D(128, kernel_size=(3, 3), padding='valid', activation='relu'))\n",
    "model.add(Dropout(0.1))\n",
    "#model.add(MaxPooling2D(pool_size=(2, 2), strides=2, padding='valid'))\n",
    "model.add(Flatten())\n",
    "model.add(Dense(64, activation='relu'))\n",
    "#model.add(BatchNormalization())\n",
    "model.add(Dropout(0.5))\n",
    "model.add(Dense(32, activation='relu'))\n",
    "model.add(Dense(18, activation='softmax'))"
   ]
  },
  {
   "cell_type": "code",
   "execution_count": 46,
   "id": "1c76ba3f",
   "metadata": {},
   "outputs": [],
   "source": [
    "model = Sequential()\n",
    "model.add(Conv2D(32, kernel_size=(3, 3), padding='same', activation='relu', input_shape=(224,224, 3)))\n",
    "model.add(Conv2D(32, kernel_size=(3, 3), padding='same', activation='relu'))\n",
    "model.add(MaxPooling2D(pool_size=(2, 2), strides=2, padding='valid'))\n",
    "model.add(Conv2D(64, kernel_size=(3, 3), padding='same', activation='relu'))\n",
    "model.add(Conv2D(64, kernel_size=(3, 3), padding='same', activation='relu'))\n",
    "model.add(MaxPooling2D(pool_size=(2, 2), strides=2, padding='valid'))\n",
    "model.add(Conv2D(128, kernel_size=(3, 3), padding='same', activation='relu'))\n",
    "model.add(MaxPooling2D(pool_size=(2, 2), strides=2, padding='valid'))\n",
    "model.add(Flatten())\n",
    "model.add(Dense(256, activation='relu'))\n",
    "model.add(Dropout(0.2))\n",
    "model.add(Dense(128, activation='relu'))\n",
    "model.add(Dense(18, activation='softmax'))"
   ]
  },
  {
   "cell_type": "code",
   "execution_count": 47,
   "id": "90f88216",
   "metadata": {
    "scrolled": true
   },
   "outputs": [
    {
     "name": "stdout",
     "output_type": "stream",
     "text": [
      "Model: \"sequential_3\"\n",
      "_________________________________________________________________\n",
      " Layer (type)                Output Shape              Param #   \n",
      "=================================================================\n",
      " conv2d_15 (Conv2D)          (None, 224, 224, 32)      896       \n",
      "                                                                 \n",
      " conv2d_16 (Conv2D)          (None, 224, 224, 32)      9248      \n",
      "                                                                 \n",
      " max_pooling2d_9 (MaxPoolin  (None, 112, 112, 32)      0         \n",
      " g2D)                                                            \n",
      "                                                                 \n",
      " conv2d_17 (Conv2D)          (None, 112, 112, 64)      18496     \n",
      "                                                                 \n",
      " conv2d_18 (Conv2D)          (None, 112, 112, 64)      36928     \n",
      "                                                                 \n",
      " max_pooling2d_10 (MaxPooli  (None, 56, 56, 64)        0         \n",
      " ng2D)                                                           \n",
      "                                                                 \n",
      " conv2d_19 (Conv2D)          (None, 56, 56, 128)       73856     \n",
      "                                                                 \n",
      " max_pooling2d_11 (MaxPooli  (None, 28, 28, 128)       0         \n",
      " ng2D)                                                           \n",
      "                                                                 \n",
      " flatten_3 (Flatten)         (None, 100352)            0         \n",
      "                                                                 \n",
      " dense_9 (Dense)             (None, 256)               25690368  \n",
      "                                                                 \n",
      " dropout_3 (Dropout)         (None, 256)               0         \n",
      "                                                                 \n",
      " dense_10 (Dense)            (None, 128)               32896     \n",
      "                                                                 \n",
      " dense_11 (Dense)            (None, 18)                2322      \n",
      "                                                                 \n",
      "=================================================================\n",
      "Total params: 25865010 (98.67 MB)\n",
      "Trainable params: 25865010 (98.67 MB)\n",
      "Non-trainable params: 0 (0.00 Byte)\n",
      "_________________________________________________________________\n"
     ]
    }
   ],
   "source": [
    "model.summary()"
   ]
  },
  {
   "cell_type": "code",
   "execution_count": 48,
   "id": "f6374725",
   "metadata": {},
   "outputs": [],
   "source": [
    "model.compile(optimizer='adam',loss='categorical_crossentropy', metrics=['accuracy'])"
   ]
  },
  {
   "cell_type": "code",
   "execution_count": 49,
   "id": "d2e075ce",
   "metadata": {
    "scrolled": true
   },
   "outputs": [
    {
     "name": "stdout",
     "output_type": "stream",
     "text": [
      "Epoch 1/15\n",
      "45/45 [==============================] - 170s 4s/step - loss: 12.5417 - accuracy: 0.1829 - val_loss: 2.1564 - val_accuracy: 0.3946\n",
      "Epoch 2/15\n",
      "45/45 [==============================] - 160s 4s/step - loss: 1.8133 - accuracy: 0.4312 - val_loss: 1.7544 - val_accuracy: 0.4853\n",
      "Epoch 3/15\n",
      "45/45 [==============================] - 156s 3s/step - loss: 1.5116 - accuracy: 0.5042 - val_loss: 1.6700 - val_accuracy: 0.4755\n",
      "Epoch 4/15\n",
      "45/45 [==============================] - 158s 4s/step - loss: 1.2885 - accuracy: 0.5765 - val_loss: 1.4625 - val_accuracy: 0.4975\n",
      "Epoch 5/15\n",
      "45/45 [==============================] - 154s 3s/step - loss: 1.0961 - accuracy: 0.6328 - val_loss: 1.3391 - val_accuracy: 0.5735\n",
      "Epoch 6/15\n",
      "45/45 [==============================] - 157s 3s/step - loss: 0.8887 - accuracy: 0.6926 - val_loss: 1.3570 - val_accuracy: 0.5882\n",
      "Epoch 7/15\n",
      "45/45 [==============================] - 155s 3s/step - loss: 0.7867 - accuracy: 0.7413 - val_loss: 1.3376 - val_accuracy: 0.5833\n",
      "Epoch 8/15\n",
      "45/45 [==============================] - 158s 4s/step - loss: 0.6406 - accuracy: 0.7858 - val_loss: 1.4656 - val_accuracy: 0.5711\n",
      "Epoch 9/15\n",
      "45/45 [==============================] - 168s 4s/step - loss: 0.5990 - accuracy: 0.8115 - val_loss: 1.6942 - val_accuracy: 0.5686\n",
      "Epoch 10/15\n",
      "45/45 [==============================] - 160s 4s/step - loss: 0.5007 - accuracy: 0.8414 - val_loss: 1.9022 - val_accuracy: 0.5931\n",
      "Epoch 11/15\n",
      "45/45 [==============================] - 156s 3s/step - loss: 0.4180 - accuracy: 0.8526 - val_loss: 1.7015 - val_accuracy: 0.6225\n",
      "Epoch 12/15\n",
      "45/45 [==============================] - 144s 3s/step - loss: 0.3646 - accuracy: 0.8811 - val_loss: 2.1094 - val_accuracy: 0.5980\n",
      "Epoch 13/15\n",
      "45/45 [==============================] - 131s 3s/step - loss: 0.3449 - accuracy: 0.8894 - val_loss: 2.0350 - val_accuracy: 0.5931\n",
      "Epoch 14/15\n",
      "45/45 [==============================] - 127s 3s/step - loss: 0.2633 - accuracy: 0.9166 - val_loss: 2.1634 - val_accuracy: 0.5809\n",
      "Epoch 15/15\n",
      "45/45 [==============================] - 130s 3s/step - loss: 0.2819 - accuracy: 0.9013 - val_loss: 2.6429 - val_accuracy: 0.5515\n"
     ]
    }
   ],
   "source": [
    "history = model.fit(ds_train, epochs=15, validation_data=ds_val)"
   ]
  },
  {
   "cell_type": "code",
   "execution_count": 50,
   "id": "421faa8c",
   "metadata": {},
   "outputs": [
    {
     "name": "stdout",
     "output_type": "stream",
     "text": [
      "7/7 [==============================] - 4s 464ms/step - loss: 1.9767 - accuracy: 0.5860\n"
     ]
    }
   ],
   "source": [
    "test_loss, test_accuracy = model.evaluate(ds_test)"
   ]
  },
  {
   "cell_type": "code",
   "execution_count": 51,
   "id": "c3331113",
   "metadata": {},
   "outputs": [
    {
     "name": "stdout",
     "output_type": "stream",
     "text": [
      "Test Loss:     1.9766980409622192\n",
      "Test Accuracy: 0.5860465168952942\n"
     ]
    }
   ],
   "source": [
    "print(f\"Test Loss:     {test_loss}\")\n",
    "print(f\"Test Accuracy: {test_accuracy}\")"
   ]
  },
  {
   "cell_type": "code",
   "execution_count": 52,
   "id": "76a1b303",
   "metadata": {},
   "outputs": [
    {
     "name": "stdout",
     "output_type": "stream",
     "text": [
      "7/7 [==============================] - 5s 444ms/step\n"
     ]
    }
   ],
   "source": [
    "predictions = model.predict(ds_test)"
   ]
  },
  {
   "cell_type": "code",
   "execution_count": 33,
   "id": "c2621af7",
   "metadata": {},
   "outputs": [],
   "source": [
    "# Convert predictions to class labels\n",
    "predicted_classes = np.argmax(predictions, axis=1)"
   ]
  },
  {
   "cell_type": "code",
   "execution_count": 34,
   "id": "cf5378c9",
   "metadata": {},
   "outputs": [],
   "source": [
    "# Get true labels\n",
    "true_labels = np.concatenate([y for x, y in ds_test], axis=0)\n",
    "true_classes = np.argmax(true_labels, axis=1)"
   ]
  },
  {
   "cell_type": "code",
   "execution_count": 35,
   "id": "70dee118",
   "metadata": {},
   "outputs": [
    {
     "name": "stdout",
     "output_type": "stream",
     "text": [
      "Accuracy: 0.04186\n"
     ]
    }
   ],
   "source": [
    "# # Calculate accuracy\n",
    "# accuracy = np.sum(predicted_classes == true_classes) / len(true_classes)\n",
    "# print(f\"Accuracy: {accuracy}\")\n",
    "# Calculate accuracy\n",
    "accuracy = np.round(np.sum(predicted_classes == true_classes) / len(true_classes), 5)\n",
    "print(f\"Accuracy: {accuracy}\")"
   ]
  },
  {
   "cell_type": "code",
   "execution_count": 36,
   "id": "07d37252",
   "metadata": {},
   "outputs": [],
   "source": [
    "# Calculate precision, recall, and F1-score\n",
    "conf_mat = confusion_matrix(true_classes, predicted_classes)\n",
    "precision = np.diag(conf_mat) / np.sum(conf_mat, axis=0)\n",
    "recall = np.diag(conf_mat) / np.sum(conf_mat, axis=1)\n",
    "f1 = 2 * (precision * recall) / (precision + recall)"
   ]
  },
  {
   "cell_type": "code",
   "execution_count": 37,
   "id": "f228eb76",
   "metadata": {},
   "outputs": [
    {
     "name": "stdout",
     "output_type": "stream",
     "text": [
      "Class 0 - Precision: 0.0, Recall: 0.0, F1-Score: nan\n",
      "Class 1 - Precision: 0.058823529411764705, Recall: 0.09090909090909091, F1-Score: 0.07142857142857142\n",
      "Class 2 - Precision: 0.0, Recall: 0.0, F1-Score: nan\n",
      "Class 3 - Precision: 0.0, Recall: 0.0, F1-Score: nan\n",
      "Class 4 - Precision: 0.07692307692307693, Recall: 0.07692307692307693, F1-Score: 0.07692307692307693\n",
      "Class 5 - Precision: 0.0, Recall: 0.0, F1-Score: nan\n",
      "Class 6 - Precision: 0.08333333333333333, Recall: 0.1, F1-Score: 0.0909090909090909\n",
      "Class 7 - Precision: 0.0, Recall: 0.0, F1-Score: nan\n",
      "Class 8 - Precision: 0.09090909090909091, Recall: 0.08333333333333333, F1-Score: 0.08695652173913043\n",
      "Class 9 - Precision: 0.07692307692307693, Recall: 0.058823529411764705, F1-Score: 0.06666666666666667\n",
      "Class 10 - Precision: 0.0, Recall: 0.0, F1-Score: nan\n",
      "Class 11 - Precision: 0.08, Recall: 0.1, F1-Score: 0.08888888888888889\n",
      "Class 12 - Precision: 0.0, Recall: 0.0, F1-Score: nan\n",
      "Class 13 - Precision: 0.16666666666666666, Recall: 0.08333333333333333, F1-Score: 0.1111111111111111\n",
      "Class 14 - Precision: 0.0, Recall: 0.0, F1-Score: nan\n",
      "Class 15 - Precision: 0.0, Recall: 0.0, F1-Score: nan\n",
      "Class 16 - Precision: 0.14285714285714285, Recall: 0.1, F1-Score: 0.11764705882352941\n",
      "Class 17 - Precision: 0.0, Recall: 0.0, F1-Score: nan\n"
     ]
    }
   ],
   "source": [
    "# Print precision, recall, and F1-score for each class\n",
    "for i in range(len(precision)):\n",
    "    print(f\"Class {i} - Precision: {precision[i]}, Recall: {recall[i]}, F1-Score: {f1[i]}\")"
   ]
  },
  {
   "cell_type": "code",
   "execution_count": null,
   "id": "90d9a2e6",
   "metadata": {},
   "outputs": [],
   "source": []
  },
  {
   "cell_type": "code",
   "execution_count": null,
   "id": "b3c23a7f",
   "metadata": {},
   "outputs": [],
   "source": []
  },
  {
   "cell_type": "code",
   "execution_count": null,
   "id": "f68ce7be",
   "metadata": {},
   "outputs": [],
   "source": []
  },
  {
   "cell_type": "code",
   "execution_count": 33,
   "id": "21c4225f",
   "metadata": {},
   "outputs": [],
   "source": [
    "# Convert one-hot encoded labels back to class indices\n",
    "y_true = np.concatenate([np.argmax(y, axis=1) for _, y in ds_test])\n",
    "y_pred = np.argmax(predictions, axis=1)"
   ]
  },
  {
   "cell_type": "code",
   "execution_count": 34,
   "id": "82c5c527",
   "metadata": {},
   "outputs": [
    {
     "name": "stdout",
     "output_type": "stream",
     "text": [
      "Confusion Matrix:\n",
      "[[0 0 0 1 2 2 1 0 0 1 0 0 0 2 0 1 1 0]\n",
      " [0 0 2 0 0 0 0 1 2 2 0 1 1 0 0 0 0 2]\n",
      " [3 0 1 1 0 0 1 1 2 2 0 1 0 0 0 1 1 0]\n",
      " [0 0 0 1 0 0 0 0 1 1 1 3 0 2 0 0 1 0]\n",
      " [0 2 1 0 1 1 0 0 1 1 1 2 1 0 0 1 1 0]\n",
      " [0 1 2 0 3 0 1 0 0 0 0 1 0 1 1 0 2 0]\n",
      " [0 0 2 0 0 1 0 0 1 0 1 1 0 0 0 1 3 0]\n",
      " [0 0 1 1 3 0 0 1 0 0 1 0 1 1 1 0 0 0]\n",
      " [0 1 1 0 2 1 0 0 1 1 1 2 1 0 0 0 1 0]\n",
      " [0 1 0 2 0 0 1 0 2 0 1 2 1 1 1 1 2 2]\n",
      " [0 1 0 0 0 1 0 1 3 1 0 2 1 0 1 0 0 1]\n",
      " [0 1 3 0 1 0 2 3 0 1 0 1 0 1 1 3 2 1]\n",
      " [1 1 1 0 1 2 1 0 2 0 0 0 1 0 0 0 1 0]\n",
      " [0 1 0 1 0 0 1 1 0 2 2 1 1 0 1 0 1 0]\n",
      " [2 0 0 1 1 1 0 0 1 0 1 0 1 1 1 0 0 0]\n",
      " [0 0 1 1 1 2 0 0 0 0 0 0 1 1 1 2 0 0]\n",
      " [0 1 1 1 1 0 2 0 1 2 0 1 0 0 0 0 0 0]\n",
      " [0 1 0 1 0 0 1 0 2 1 1 1 1 0 0 0 1 0]]\n"
     ]
    }
   ],
   "source": [
    "# Create confusion matrix\n",
    "conf_matrix = confusion_matrix(y_true, y_pred)\n",
    "print(\"Confusion Matrix:\")\n",
    "print(conf_matrix)"
   ]
  },
  {
   "cell_type": "code",
   "execution_count": 38,
   "id": "1d8f4810",
   "metadata": {},
   "outputs": [],
   "source": [
    "# Define class labels\n",
    "class_labels = [str(i+1) for i in range(18)]"
   ]
  },
  {
   "cell_type": "code",
   "execution_count": 45,
   "id": "478139c3",
   "metadata": {},
   "outputs": [
    {
     "data": {
      "image/png": "[encoded data removed]",
      "text/plain": [
       "<Figure size 1000x800 with 2 Axes>"
      ]
     },
     "metadata": {},
     "output_type": "display_data"
    }
   ],
   "source": [
    "# Plot confusion matrix\n",
    "plt.figure(figsize=(10, 8))\n",
    "sns.heatmap(conf_matrix, annot=True, fmt='d', cmap='coolwarm', xticklabels=class_labels, yticklabels=class_labels)\n",
    "plt.title('Confusion Matrix')\n",
    "plt.xlabel('Predicted')\n",
    "plt.ylabel('True')\n",
    "plt.savefig('heat_map_GADF.png')\n",
    "plt.show()"
   ]
  },
  {
   "cell_type": "code",
   "execution_count": 40,
   "id": "2153ad3a",
   "metadata": {},
   "outputs": [
    {
     "name": "stdout",
     "output_type": "stream",
     "text": [
      "Classification Report:\n",
      "              precision    recall  f1-score   support\n",
      "\n",
      "           0       0.00      0.00      0.00        11\n",
      "           1       0.00      0.00      0.00        11\n",
      "           2       0.06      0.07      0.07        14\n",
      "           3       0.09      0.10      0.10        10\n",
      "           4       0.06      0.08      0.07        13\n",
      "           5       0.00      0.00      0.00        12\n",
      "           6       0.00      0.00      0.00        10\n",
      "           7       0.12      0.10      0.11        10\n",
      "           8       0.05      0.08      0.06        12\n",
      "           9       0.00      0.00      0.00        17\n",
      "          10       0.00      0.00      0.00        12\n",
      "          11       0.05      0.05      0.05        20\n",
      "          12       0.09      0.09      0.09        11\n",
      "          13       0.00      0.00      0.00        12\n",
      "          14       0.12      0.10      0.11        10\n",
      "          15       0.20      0.20      0.20        10\n",
      "          16       0.00      0.00      0.00        10\n",
      "          17       0.00      0.00      0.00        10\n",
      "\n",
      "    accuracy                           0.05       215\n",
      "   macro avg       0.05      0.05      0.05       215\n",
      "weighted avg       0.05      0.05      0.05       215\n",
      "\n"
     ]
    }
   ],
   "source": [
    "# Display classification report\n",
    "class_report = classification_report(y_true, y_pred)\n",
    "print(\"Classification Report:\")\n",
    "print(class_report)"
   ]
  },
  {
   "cell_type": "code",
   "execution_count": null,
   "id": "4af2b06c",
   "metadata": {},
   "outputs": [],
   "source": [
    "\n",
    "\n",
    "# Assuming 'history' is the variable storing the history object from model.fit()\n",
    "\n",
    "# Plot training & validation accuracy values\n",
    "plt.figure(figsize=(12, 6))\n",
    "plt.subplot(1, 2, 1)\n",
    "plt.plot(history.history['accuracy'])\n",
    "plt.plot(history.history['val_accuracy'])\n",
    "plt.title('Model Accuracy')\n",
    "plt.xlabel('Epoch')\n",
    "plt.ylabel('Accuracy')\n",
    "plt.legend(['Train', 'Validation'], loc='upper left')\n",
    "\n",
    "\n",
    "# Plot training & validation loss values\n",
    "plt.subplot(1, 2, 2)\n",
    "plt.plot(history.history['loss'])\n",
    "plt.plot(history.history['val_loss'])\n",
    "plt.title('Model Loss')\n",
    "plt.xlabel('Epoch')\n",
    "plt.ylabel('Loss')\n",
    "plt.legend(['Train', 'Validation'], loc='upper left')\n",
    "\n",
    "plt.tight_layout()\n",
    "plt.savefig('1x2_training_validation_plot.png')\n",
    "#plt.savefig('training_validation_plot.png')\n",
    "plt.show()\n"
   ]
  }
 ],
 "metadata": {
  "kernelspec": {
   "display_name": "Python 3 (ipykernel)",
   "language": "python",
   "name": "python3"
  },
  "language_info": {
   "codemirror_mode": {
    "name": "ipython",
    "version": 3
   },
   "file_extension": ".py",
   "mimetype": "text/x-python",
   "name": "python",
   "nbconvert_exporter": "python",
   "pygments_lexer": "ipython3",
   "version": "3.11.5"
  }
 },
 "nbformat": 4,
 "nbformat_minor": 5
}
